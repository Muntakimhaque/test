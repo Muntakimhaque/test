{
  "cells": [
    {
      "cell_type": "markdown",
      "metadata": {
        "id": "view-in-github",
        "colab_type": "text"
      },
      "source": [
        "<a href=\"https://colab.research.google.com/github/Muntakimhaque/test/blob/main/qismet_4bit.ipynb\" target=\"_parent\"><img src=\"https://colab.research.google.com/assets/colab-badge.svg\" alt=\"Open In Colab\"/></a>"
      ]
    },
    {
      "cell_type": "code",
      "execution_count": null,
      "id": "35c03f0f-29dc-49b3-b950-69fad43fff45",
      "metadata": {
        "id": "35c03f0f-29dc-49b3-b950-69fad43fff45"
      },
      "outputs": [],
      "source": [
        "%load_ext autoreload\n",
        "%autoreload 2"
      ]
    },
    {
      "cell_type": "code",
      "execution_count": null,
      "id": "d42717e2-d584-43e0-94da-e89fdf30cfc1",
      "metadata": {
        "id": "d42717e2-d584-43e0-94da-e89fdf30cfc1"
      },
      "outputs": [],
      "source": [
        "import qiskit_metal as metal\n",
        "from qiskit_metal import designs, draw\n",
        "from qiskit_metal import MetalGUI, Dict, open_docs\n",
        "import numpy as np"
      ]
    },
    {
      "cell_type": "code",
      "execution_count": null,
      "id": "c0eb1df6-fdd6-4be8-abea-8001333589c4",
      "metadata": {
        "id": "c0eb1df6-fdd6-4be8-abea-8001333589c4"
      },
      "outputs": [],
      "source": [
        "design = designs.DesignPlanar()"
      ]
    },
    {
      "cell_type": "code",
      "execution_count": null,
      "id": "504ad43e-cb5b-4fc1-a230-afd19a3d5f66",
      "metadata": {
        "id": "504ad43e-cb5b-4fc1-a230-afd19a3d5f66"
      },
      "outputs": [],
      "source": [
        "# Since we are likely to be making many changes while tuning and modifying our design, we will enable overwriting.\n",
        "# If you disable the next line, then you will need to delete a component [<component>.delete()] before recreating it.\n",
        "gui = MetalGUI(design)\n",
        "design.overwrite_enabled = True"
      ]
    },
    {
      "cell_type": "code",
      "execution_count": null,
      "id": "d0e76d87-c3c9-41de-a7ee-083df0fe97a6",
      "metadata": {
        "id": "d0e76d87-c3c9-41de-a7ee-083df0fe97a6"
      },
      "outputs": [],
      "source": [
        "from qiskit_metal.qlibrary.qubits.transmon_pocket_cl import TransmonPocketCL\n",
        "from qiskit_metal.qlibrary.tlines.meandered import RouteMeander\n",
        "from qiskit_metal.qlibrary.tlines.anchored_path import RouteAnchors\n",
        "from qiskit_metal.qlibrary.tlines.pathfinder import RoutePathfinder\n",
        "from qiskit_metal.qlibrary.terminations.launchpad_wb import LaunchpadWirebond\n",
        "from qiskit_metal.qlibrary.terminations.launchpad_wb_coupled import LaunchpadWirebondCoupled"
      ]
    },
    {
      "cell_type": "code",
      "execution_count": null,
      "id": "85f584b0-a1bf-4601-8727-a4f55956d9ca",
      "metadata": {
        "id": "85f584b0-a1bf-4601-8727-a4f55956d9ca"
      },
      "outputs": [],
      "source": [
        "design.variables['cpw_width'] = '10 um'\n",
        "design.variables['cpw_gap'] = '6 um'\n",
        "design._chips['main']['size']['size_x'] = '9mm'\n",
        "design._chips['main']['size']['size_y'] = '6.5mm'"
      ]
    },
    {
      "cell_type": "code",
      "execution_count": null,
      "id": "3ec36d27-42c7-4c37-ba16-c84cb15a8437",
      "metadata": {
        "id": "3ec36d27-42c7-4c37-ba16-c84cb15a8437",
        "outputId": "5df38c86-b851-41bf-a90e-8e62cac34492"
      },
      "outputs": [
        {
          "data": {
            "text/plain": [
              "{'pos_x': '0.0um',\n",
              " 'pos_y': '0.0um',\n",
              " 'orientation': '0.0',\n",
              " 'chip': 'main',\n",
              " 'layer': '1',\n",
              " 'connection_pads': {},\n",
              " '_default_connection_pads': {'pad_gap': '15um',\n",
              "  'pad_width': '125um',\n",
              "  'pad_height': '30um',\n",
              "  'pad_cpw_shift': '5um',\n",
              "  'pad_cpw_extent': '25um',\n",
              "  'cpw_width': 'cpw_width',\n",
              "  'cpw_gap': 'cpw_gap',\n",
              "  'cpw_extend': '100um',\n",
              "  'pocket_extent': '5um',\n",
              "  'pocket_rise': '65um',\n",
              "  'loc_W': '+1',\n",
              "  'loc_H': '+1'},\n",
              " 'pad_gap': '30um',\n",
              " 'inductor_width': '20um',\n",
              " 'pad_width': '455um',\n",
              " 'pad_height': '90um',\n",
              " 'pocket_width': '650um',\n",
              " 'pocket_height': '650um',\n",
              " 'make_CL': True,\n",
              " 'cl_gap': '6um',\n",
              " 'cl_width': '10um',\n",
              " 'cl_length': '20um',\n",
              " 'cl_ground_gap': '6um',\n",
              " 'cl_pocket_edge': '0',\n",
              " 'cl_off_center': '50um',\n",
              " 'hfss_wire_bonds': False,\n",
              " 'q3d_wire_bonds': False,\n",
              " 'aedt_q3d_wire_bonds': False,\n",
              " 'aedt_hfss_wire_bonds': False,\n",
              " 'hfss_inductance': '10nH',\n",
              " 'hfss_capacitance': 0,\n",
              " 'hfss_resistance': 0,\n",
              " 'hfss_mesh_kw_jj': 7e-06,\n",
              " 'q3d_inductance': '10nH',\n",
              " 'q3d_capacitance': 0,\n",
              " 'q3d_resistance': 0,\n",
              " 'q3d_mesh_kw_jj': 7e-06,\n",
              " 'gds_cell_name': 'my_other_junction',\n",
              " 'aedt_q3d_inductance': 1e-08,\n",
              " 'aedt_q3d_capacitance': 0,\n",
              " 'aedt_hfss_inductance': 1e-08,\n",
              " 'aedt_hfss_capacitance': 0}"
            ]
          },
          "execution_count": 17,
          "metadata": {},
          "output_type": "execute_result"
        }
      ],
      "source": [
        "TransmonPocketCL.get_template_options(design)"
      ]
    },
    {
      "cell_type": "code",
      "execution_count": null,
      "id": "51f52f89-c344-4e76-85bb-a3a8f28ec313",
      "metadata": {
        "id": "51f52f89-c344-4e76-85bb-a3a8f28ec313"
      },
      "outputs": [],
      "source": [
        "transmon_options = dict(\n",
        "    connection_pads=dict(\n",
        "        a = dict(loc_W=+1, loc_H=-1, pad_width='70um', cpw_extend = '50um'),\n",
        "        b = dict(loc_W=-1, loc_H=-1, pad_width='125um', cpw_extend = '50um'),\n",
        "        c = dict(loc_W=-1, loc_H=+1, pad_width='110um', cpw_extend = '50um')\n",
        "    ),\n",
        "    gds_cell_name='FakeJunction_01',\n",
        "    cl_off_center = '-50um',\n",
        "    cl_pocket_edge = '180'\n",
        ")"
      ]
    },
    {
      "cell_type": "code",
      "execution_count": null,
      "id": "a5b20f88-7927-4288-8169-66efcd56ebb8",
      "metadata": {
        "id": "a5b20f88-7927-4288-8169-66efcd56ebb8"
      },
      "outputs": [],
      "source": [
        "offset_tm = 69  #we the transmon slightly out of center-line\n",
        "\n",
        "q1 = TransmonPocketCL(design, 'Q1', options = dict(\n",
        "    pos_x='+2420um', pos_y=f'{offset_tm}um', **transmon_options))\n",
        "q2 = TransmonPocketCL(design, 'Q2', options = dict(\n",
        "    pos_x='0um', pos_y='-857.6um', orientation = '270', **transmon_options))\n",
        "q3 = TransmonPocketCL(design, 'Q3', options = dict(\n",
        "    pos_x='-2420um', pos_y=f'{offset_tm}um', orientation = '180', **transmon_options))\n",
        "q4 = TransmonPocketCL(design, 'Q4', options = dict(\n",
        "    pos_x='0um', pos_y='+857.6um', orientation = '90', **transmon_options))\n",
        "\n",
        "gui.rebuild()\n",
        "gui.autoscale()"
      ]
    },
    {
      "cell_type": "code",
      "execution_count": null,
      "id": "99c74ebb-40c5-486d-b507-7882b643fd29",
      "metadata": {
        "id": "99c74ebb-40c5-486d-b507-7882b643fd29",
        "outputId": "e129d2d2-93fb-4e5a-86db-3b0dd4b92b0a"
      },
      "outputs": [
        {
          "data": {
            "text/plain": [
              "{'chip': 'main',\n",
              " 'layer': '1',\n",
              " 'pin_inputs': {'start_pin': {'component': '', 'pin': ''},\n",
              "  'end_pin': {'component': '', 'pin': ''}},\n",
              " 'fillet': '0',\n",
              " 'lead': {'start_straight': '0mm',\n",
              "  'end_straight': '0mm',\n",
              "  'start_jogged_extension': '',\n",
              "  'end_jogged_extension': ''},\n",
              " 'total_length': '7mm',\n",
              " 'trace_width': 'cpw_width',\n",
              " 'meander': {'spacing': '200um', 'asymmetry': '0um'},\n",
              " 'snap': 'true',\n",
              " 'prevent_short_edges': 'true',\n",
              " 'hfss_wire_bonds': False,\n",
              " 'q3d_wire_bonds': False,\n",
              " 'aedt_q3d_wire_bonds': False,\n",
              " 'aedt_hfss_wire_bonds': False}"
            ]
          },
          "execution_count": 23,
          "metadata": {},
          "output_type": "execute_result"
        }
      ],
      "source": [
        "RouteMeander.get_template_options(design)"
      ]
    },
    {
      "cell_type": "code",
      "execution_count": null,
      "id": "7a2081ff-b5e0-45bd-bdd4-524cabd4c3fc",
      "metadata": {
        "id": "7a2081ff-b5e0-45bd-bdd4-524cabd4c3fc"
      },
      "outputs": [],
      "source": [
        "def connect(cpw_name: str, pin1_comp_name: str, pin1_comp_pin: str, pin2_comp_name: str, pin2_comp_pin: str,\n",
        "            length: str, asymmetry='0 um'):\n",
        "    \"\"\"Connect two pins with a CPW.\"\"\"\n",
        "    myoptions = Dict(\n",
        "        pin_inputs=Dict(\n",
        "            start_pin=Dict(\n",
        "                component=pin1_comp_name,\n",
        "                pin=pin1_comp_pin),\n",
        "            end_pin=Dict(\n",
        "                component=pin2_comp_name,\n",
        "                pin=pin2_comp_pin)),\n",
        "        total_length=length)\n",
        "    myoptions.update(cpw_options)\n",
        "    myoptions.meander.asymmetry = asymmetry\n",
        "    return RouteMeander(design, cpw_name, myoptions)"
      ]
    },
    {
      "cell_type": "code",
      "execution_count": null,
      "id": "60d0b228-ebdc-4b72-942d-58723ac2390b",
      "metadata": {
        "id": "60d0b228-ebdc-4b72-942d-58723ac2390b",
        "outputId": "324485ec-50ad-438d-edc0-96bd47cbc425"
      },
      "outputs": [
        {
          "ename": "NameError",
          "evalue": "name 'cpw_options' is not defined",
          "output_type": "error",
          "traceback": [
            "\u001b[1;31m---------------------------------------------------------------------------\u001b[0m",
            "\u001b[1;31mNameError\u001b[0m                                 Traceback (most recent call last)",
            "Cell \u001b[1;32mIn[27], line 2\u001b[0m\n\u001b[0;32m      1\u001b[0m asym \u001b[38;5;241m=\u001b[39m \u001b[38;5;241m500\u001b[39m\n\u001b[1;32m----> 2\u001b[0m cpw1 \u001b[38;5;241m=\u001b[39m \u001b[43mconnect\u001b[49m\u001b[43m(\u001b[49m\u001b[38;5;124;43m'\u001b[39;49m\u001b[38;5;124;43mcpw1\u001b[39;49m\u001b[38;5;124;43m'\u001b[39;49m\u001b[43m,\u001b[49m\u001b[43m \u001b[49m\u001b[38;5;124;43m'\u001b[39;49m\u001b[38;5;124;43mQ1\u001b[39;49m\u001b[38;5;124;43m'\u001b[39;49m\u001b[43m,\u001b[49m\u001b[43m \u001b[49m\u001b[38;5;124;43m'\u001b[39;49m\u001b[38;5;124;43mc\u001b[39;49m\u001b[38;5;124;43m'\u001b[39;49m\u001b[43m,\u001b[49m\u001b[43m \u001b[49m\u001b[38;5;124;43m'\u001b[39;49m\u001b[38;5;124;43mQ4\u001b[39;49m\u001b[38;5;124;43m'\u001b[39;49m\u001b[43m,\u001b[49m\u001b[43m \u001b[49m\u001b[38;5;124;43m'\u001b[39;49m\u001b[38;5;124;43mb\u001b[39;49m\u001b[38;5;124;43m'\u001b[39;49m\u001b[43m,\u001b[49m\u001b[43m \u001b[49m\u001b[38;5;124;43m'\u001b[39;49m\u001b[38;5;124;43m9000um\u001b[39;49m\u001b[38;5;124;43m'\u001b[39;49m\u001b[43m,\u001b[49m\u001b[43m \u001b[49m\u001b[38;5;124;43mf\u001b[39;49m\u001b[38;5;124;43m'\u001b[39;49m\u001b[38;5;124;43m-\u001b[39;49m\u001b[38;5;132;43;01m{\u001b[39;49;00m\u001b[43masym\u001b[49m\u001b[38;5;241;43m-\u001b[39;49m\u001b[38;5;241;43m1.25\u001b[39;49m\u001b[38;5;241;43m*\u001b[39;49m\u001b[43moffset_tm\u001b[49m\u001b[38;5;132;43;01m}\u001b[39;49;00m\u001b[38;5;124;43mum\u001b[39;49m\u001b[38;5;124;43m'\u001b[39;49m\u001b[43m)\u001b[49m\n\u001b[0;32m      3\u001b[0m cpw2 \u001b[38;5;241m=\u001b[39m connect(\u001b[38;5;124m'\u001b[39m\u001b[38;5;124mcpw2\u001b[39m\u001b[38;5;124m'\u001b[39m, \u001b[38;5;124m'\u001b[39m\u001b[38;5;124mQ3\u001b[39m\u001b[38;5;124m'\u001b[39m, \u001b[38;5;124m'\u001b[39m\u001b[38;5;124mb\u001b[39m\u001b[38;5;124m'\u001b[39m, \u001b[38;5;124m'\u001b[39m\u001b[38;5;124mQ4\u001b[39m\u001b[38;5;124m'\u001b[39m, \u001b[38;5;124m'\u001b[39m\u001b[38;5;124mc\u001b[39m\u001b[38;5;124m'\u001b[39m, \u001b[38;5;124m'\u001b[39m\u001b[38;5;124m9000um\u001b[39m\u001b[38;5;124m'\u001b[39m, \u001b[38;5;124mf\u001b[39m\u001b[38;5;124m'\u001b[39m\u001b[38;5;124m+\u001b[39m\u001b[38;5;132;01m{\u001b[39;00masym\u001b[38;5;241m-\u001b[39m\u001b[38;5;241m1.25\u001b[39m\u001b[38;5;241m*\u001b[39moffset_tm\u001b[38;5;132;01m}\u001b[39;00m\u001b[38;5;124mum\u001b[39m\u001b[38;5;124m'\u001b[39m)\n\u001b[0;32m      4\u001b[0m cpw3 \u001b[38;5;241m=\u001b[39m connect(\u001b[38;5;124m'\u001b[39m\u001b[38;5;124mcpw3\u001b[39m\u001b[38;5;124m'\u001b[39m, \u001b[38;5;124m'\u001b[39m\u001b[38;5;124mQ3\u001b[39m\u001b[38;5;124m'\u001b[39m, \u001b[38;5;124m'\u001b[39m\u001b[38;5;124mc\u001b[39m\u001b[38;5;124m'\u001b[39m, \u001b[38;5;124m'\u001b[39m\u001b[38;5;124mQ2\u001b[39m\u001b[38;5;124m'\u001b[39m, \u001b[38;5;124m'\u001b[39m\u001b[38;5;124mb\u001b[39m\u001b[38;5;124m'\u001b[39m, \u001b[38;5;124m'\u001b[39m\u001b[38;5;124m9000um\u001b[39m\u001b[38;5;124m'\u001b[39m, \u001b[38;5;124mf\u001b[39m\u001b[38;5;124m'\u001b[39m\u001b[38;5;124m-\u001b[39m\u001b[38;5;132;01m{\u001b[39;00masym\u001b[38;5;241m+\u001b[39m\u001b[38;5;241m0.75\u001b[39m\u001b[38;5;241m*\u001b[39moffset_tm\u001b[38;5;132;01m}\u001b[39;00m\u001b[38;5;124mum\u001b[39m\u001b[38;5;124m'\u001b[39m)\n",
            "Cell \u001b[1;32mIn[25], line 13\u001b[0m, in \u001b[0;36mconnect\u001b[1;34m(cpw_name, pin1_comp_name, pin1_comp_pin, pin2_comp_name, pin2_comp_pin, length, asymmetry)\u001b[0m\n\u001b[0;32m      3\u001b[0m \u001b[38;5;250m\u001b[39m\u001b[38;5;124;03m\"\"\"Connect two pins with a CPW.\"\"\"\u001b[39;00m\n\u001b[0;32m      4\u001b[0m myoptions \u001b[38;5;241m=\u001b[39m Dict(\n\u001b[0;32m      5\u001b[0m     pin_inputs\u001b[38;5;241m=\u001b[39mDict(\n\u001b[0;32m      6\u001b[0m         start_pin\u001b[38;5;241m=\u001b[39mDict(\n\u001b[1;32m   (...)\u001b[0m\n\u001b[0;32m     11\u001b[0m             pin\u001b[38;5;241m=\u001b[39mpin2_comp_pin)),\n\u001b[0;32m     12\u001b[0m     total_length\u001b[38;5;241m=\u001b[39mlength)\n\u001b[1;32m---> 13\u001b[0m myoptions\u001b[38;5;241m.\u001b[39mupdate(\u001b[43mcpw_options\u001b[49m)\n\u001b[0;32m     14\u001b[0m myoptions\u001b[38;5;241m.\u001b[39mmeander\u001b[38;5;241m.\u001b[39masymmetry \u001b[38;5;241m=\u001b[39m asymmetry\n\u001b[0;32m     15\u001b[0m \u001b[38;5;28;01mreturn\u001b[39;00m RouteMeander(design, cpw_name, myoptions)\n",
            "\u001b[1;31mNameError\u001b[0m: name 'cpw_options' is not defined"
          ]
        }
      ],
      "source": [
        "asym = 500\n",
        "cpw1 = connect('cpw1', 'Q1', 'c', 'Q4', 'b', '9000um', f'-{asym-1.25*offset_tm}um')\n",
        "cpw2 = connect('cpw2', 'Q3', 'b', 'Q4', 'c', '9000um', f'+{asym-1.25*offset_tm}um')\n",
        "cpw3 = connect('cpw3', 'Q3', 'c', 'Q2', 'b', '9000um', f'-{asym+0.75*offset_tm}um')\n",
        "cpw4 = connect('cpw4', 'Q1', 'b', 'Q2', 'c', '9000um', f'+{asym+0.75*offset_tm}um')\n",
        "\n",
        "gui.rebuild()\n",
        "gui.autoscale()"
      ]
    },
    {
      "cell_type": "code",
      "execution_count": null,
      "id": "c84d7831-18f2-4ca8-84df-8693a0185781",
      "metadata": {
        "id": "c84d7831-18f2-4ca8-84df-8693a0185781"
      },
      "outputs": [],
      "source": [
        "# V1 - Corners\n",
        "p1_c = LaunchpadWirebond(design, 'P1_C', options = dict(pos_x='3545um', pos_y='2812um', orientation='270', lead_length='0um'))\n",
        "p2_c = LaunchpadWirebond(design, 'P2_C', options = dict(pos_x='3545um', pos_y='-2812um', orientation='90', lead_length='0um'))\n",
        "p3_c = LaunchpadWirebond(design, 'P3_C', options = dict(pos_x='-3545um', pos_y='-2812um', orientation='90', lead_length='0um'))\n",
        "p4_c = LaunchpadWirebond(design, 'P4_C', options = dict(pos_x='-3545um', pos_y='2812um', orientation='270', lead_length='0um'))\n",
        "\n",
        "# V2\n",
        "p1_q = LaunchpadWirebondCoupled(design, 'P1_Q', options = dict(pos_x='4020um', pos_y='0', orientation='180', lead_length='30um'))\n",
        "p2_q = LaunchpadWirebondCoupled(design, 'P2_Q', options = dict(pos_x='-990um', pos_y='-2812um', orientation='90', lead_length='30um'))\n",
        "p3_q = LaunchpadWirebondCoupled(design, 'P3_Q', options = dict(pos_x='-4020um', pos_y='0', orientation='0', lead_length='30um'))\n",
        "p4_q = LaunchpadWirebondCoupled(design, 'P4_Q', options = dict(pos_x='990um', pos_y='2812um', orientation='270', lead_length='30um'))\n",
        "\n",
        "gui.rebuild()\n",
        "gui.autoscale()"
      ]
    },
    {
      "cell_type": "code",
      "execution_count": null,
      "id": "b051875a-fd2a-4c27-8597-0a7c33d87f73",
      "metadata": {
        "id": "b051875a-fd2a-4c27-8597-0a7c33d87f73",
        "outputId": "4dbde061-e051-42a9-b25e-5471593d49bc"
      },
      "outputs": [
        {
          "ename": "NameError",
          "evalue": "name 'fillet' is not defined",
          "output_type": "error",
          "traceback": [
            "\u001b[1;31m---------------------------------------------------------------------------\u001b[0m",
            "\u001b[1;31mNameError\u001b[0m                                 Traceback (most recent call last)",
            "Cell \u001b[1;32mIn[91], line 6\u001b[0m\n\u001b[0;32m      1\u001b[0m asym \u001b[38;5;241m=\u001b[39m \u001b[38;5;241m150\u001b[39m\n\u001b[0;32m      2\u001b[0m cpw_options \u001b[38;5;241m=\u001b[39m Dict(\n\u001b[0;32m      3\u001b[0m     lead\u001b[38;5;241m=\u001b[39mDict(\n\u001b[0;32m      4\u001b[0m         start_straight\u001b[38;5;241m=\u001b[39m\u001b[38;5;124m'\u001b[39m\u001b[38;5;124m430um\u001b[39m\u001b[38;5;124m'\u001b[39m,\n\u001b[0;32m      5\u001b[0m         end_straight\u001b[38;5;241m=\u001b[39m\u001b[38;5;124m'\u001b[39m\u001b[38;5;124m0um\u001b[39m\u001b[38;5;124m'\u001b[39m),\n\u001b[1;32m----> 6\u001b[0m     fillet\u001b[38;5;241m=\u001b[39m\u001b[43mfillet\u001b[49m\n\u001b[0;32m      7\u001b[0m     )\n\u001b[0;32m      8\u001b[0m ol1 \u001b[38;5;241m=\u001b[39m connect(\u001b[38;5;124m'\u001b[39m\u001b[38;5;124mol1\u001b[39m\u001b[38;5;124m'\u001b[39m, \u001b[38;5;124m'\u001b[39m\u001b[38;5;124mQ1\u001b[39m\u001b[38;5;124m'\u001b[39m, \u001b[38;5;124m'\u001b[39m\u001b[38;5;124ma\u001b[39m\u001b[38;5;124m'\u001b[39m, \u001b[38;5;124m'\u001b[39m\u001b[38;5;124mP1_Q\u001b[39m\u001b[38;5;124m'\u001b[39m, \u001b[38;5;124m'\u001b[39m\u001b[38;5;124mtie\u001b[39m\u001b[38;5;124m'\u001b[39m, \u001b[38;5;124m'\u001b[39m\u001b[38;5;124m8.6 mm\u001b[39m\u001b[38;5;124m'\u001b[39m, \u001b[38;5;124mf\u001b[39m\u001b[38;5;124m'\u001b[39m\u001b[38;5;124m+\u001b[39m\u001b[38;5;132;01m{\u001b[39;00masym\u001b[38;5;132;01m}\u001b[39;00m\u001b[38;5;124mum\u001b[39m\u001b[38;5;124m'\u001b[39m)\n\u001b[0;32m      9\u001b[0m ol3 \u001b[38;5;241m=\u001b[39m connect(\u001b[38;5;124m'\u001b[39m\u001b[38;5;124mol3\u001b[39m\u001b[38;5;124m'\u001b[39m, \u001b[38;5;124m'\u001b[39m\u001b[38;5;124mQ3\u001b[39m\u001b[38;5;124m'\u001b[39m, \u001b[38;5;124m'\u001b[39m\u001b[38;5;124ma\u001b[39m\u001b[38;5;124m'\u001b[39m, \u001b[38;5;124m'\u001b[39m\u001b[38;5;124mP3_Q\u001b[39m\u001b[38;5;124m'\u001b[39m, \u001b[38;5;124m'\u001b[39m\u001b[38;5;124mtie\u001b[39m\u001b[38;5;124m'\u001b[39m, \u001b[38;5;124m'\u001b[39m\u001b[38;5;124m8.6 mm\u001b[39m\u001b[38;5;124m'\u001b[39m, \u001b[38;5;124mf\u001b[39m\u001b[38;5;124m'\u001b[39m\u001b[38;5;124m+\u001b[39m\u001b[38;5;132;01m{\u001b[39;00masym\u001b[38;5;132;01m}\u001b[39;00m\u001b[38;5;124mum\u001b[39m\u001b[38;5;124m'\u001b[39m)\n",
            "\u001b[1;31mNameError\u001b[0m: name 'fillet' is not defined"
          ]
        }
      ],
      "source": [
        "asym = 150\n",
        "cpw_options = Dict(\n",
        "    lead=Dict(\n",
        "        start_straight='430um',\n",
        "        end_straight='0um'),\n",
        "    fillet=fillet\n",
        "    )\n",
        "ol1 = connect('ol1', 'Q1', 'a', 'P1_Q', 'tie', '8.6 mm', f'+{asym}um')\n",
        "ol3 = connect('ol3', 'Q3', 'a', 'P3_Q', 'tie', '8.6 mm', f'+{asym}um')\n",
        "\n",
        "asym = 200\n",
        "cpw_options = Dict(\n",
        "    lead=Dict(\n",
        "        start_straight='535um',\n",
        "        end_straight='0um'),\n",
        "    fillet=fillet\n",
        "    )\n",
        "ol2 = connect('ol2', 'Q2', 'a', 'P2_Q', 'tie', '8.6 mm', f'+{asym}um')\n",
        "ol4 = connect('ol4', 'Q4', 'a', 'P4_Q', 'tie', '8.6 mm', f'+{asym}um')\n",
        "\n",
        "gui.rebuild()\n",
        "gui.autoscale()"
      ]
    },
    {
      "cell_type": "code",
      "execution_count": null,
      "id": "9f9c593e-d3c4-47f8-8faa-74a8fb872b64",
      "metadata": {
        "id": "9f9c593e-d3c4-47f8-8faa-74a8fb872b64",
        "outputId": "b46910b5-f492-465d-faae-64d3e10ed99e"
      },
      "outputs": [
        {
          "ename": "NameError",
          "evalue": "name 'fillet' is not defined",
          "output_type": "error",
          "traceback": [
            "\u001b[1;31m---------------------------------------------------------------------------\u001b[0m",
            "\u001b[1;31mNameError\u001b[0m                                 Traceback (most recent call last)",
            "Cell \u001b[1;32mIn[93], line 9\u001b[0m\n\u001b[0;32m      2\u001b[0m jogsA_in \u001b[38;5;241m=\u001b[39m OrderedDict()\n\u001b[0;32m      3\u001b[0m jogsA_in[\u001b[38;5;241m0\u001b[39m] \u001b[38;5;241m=\u001b[39m [\u001b[38;5;124m\"\u001b[39m\u001b[38;5;124mL\u001b[39m\u001b[38;5;124m\"\u001b[39m, \u001b[38;5;124m'\u001b[39m\u001b[38;5;124m200um\u001b[39m\u001b[38;5;124m'\u001b[39m]\n\u001b[0;32m      5\u001b[0m options_line_cl1 \u001b[38;5;241m=\u001b[39m {\u001b[38;5;124m'\u001b[39m\u001b[38;5;124mpin_inputs\u001b[39m\u001b[38;5;124m'\u001b[39m:\n\u001b[0;32m      6\u001b[0m             {\u001b[38;5;124m'\u001b[39m\u001b[38;5;124mstart_pin\u001b[39m\u001b[38;5;124m'\u001b[39m: {\u001b[38;5;124m'\u001b[39m\u001b[38;5;124mcomponent\u001b[39m\u001b[38;5;124m'\u001b[39m: \u001b[38;5;124m'\u001b[39m\u001b[38;5;124mQ1\u001b[39m\u001b[38;5;124m'\u001b[39m, \u001b[38;5;124m'\u001b[39m\u001b[38;5;124mpin\u001b[39m\u001b[38;5;124m'\u001b[39m: \u001b[38;5;124m'\u001b[39m\u001b[38;5;124mCharge_Line\u001b[39m\u001b[38;5;124m'\u001b[39m},\n\u001b[0;32m      7\u001b[0m              \u001b[38;5;124m'\u001b[39m\u001b[38;5;124mend_pin\u001b[39m\u001b[38;5;124m'\u001b[39m: {\u001b[38;5;124m'\u001b[39m\u001b[38;5;124mcomponent\u001b[39m\u001b[38;5;124m'\u001b[39m: \u001b[38;5;124m'\u001b[39m\u001b[38;5;124mP1_C\u001b[39m\u001b[38;5;124m'\u001b[39m, \u001b[38;5;124m'\u001b[39m\u001b[38;5;124mpin\u001b[39m\u001b[38;5;124m'\u001b[39m: \u001b[38;5;124m'\u001b[39m\u001b[38;5;124mtie\u001b[39m\u001b[38;5;124m'\u001b[39m}},\n\u001b[0;32m      8\u001b[0m             \u001b[38;5;124m'\u001b[39m\u001b[38;5;124mlead\u001b[39m\u001b[38;5;124m'\u001b[39m: {\u001b[38;5;124m'\u001b[39m\u001b[38;5;124mstart_straight\u001b[39m\u001b[38;5;124m'\u001b[39m: \u001b[38;5;124m'\u001b[39m\u001b[38;5;124m120um\u001b[39m\u001b[38;5;124m'\u001b[39m, \u001b[38;5;124m'\u001b[39m\u001b[38;5;124mend_straight\u001b[39m\u001b[38;5;124m'\u001b[39m: \u001b[38;5;124m'\u001b[39m\u001b[38;5;124m225um\u001b[39m\u001b[38;5;124m'\u001b[39m,\u001b[38;5;124m'\u001b[39m\u001b[38;5;124mstart_jogged_extension\u001b[39m\u001b[38;5;124m'\u001b[39m: jogsA_in},\n\u001b[1;32m----> 9\u001b[0m             \u001b[38;5;124m'\u001b[39m\u001b[38;5;124mfillet\u001b[39m\u001b[38;5;124m'\u001b[39m: \u001b[43mfillet\u001b[49m\n\u001b[0;32m     10\u001b[0m             }\n\u001b[0;32m     11\u001b[0m cl1 \u001b[38;5;241m=\u001b[39m RouteAnchors(design, \u001b[38;5;124m'\u001b[39m\u001b[38;5;124mline_cl1\u001b[39m\u001b[38;5;124m'\u001b[39m, options_line_cl1)\n\u001b[0;32m     13\u001b[0m options_line_cl3 \u001b[38;5;241m=\u001b[39m {\u001b[38;5;124m'\u001b[39m\u001b[38;5;124mpin_inputs\u001b[39m\u001b[38;5;124m'\u001b[39m:\n\u001b[0;32m     14\u001b[0m             {\u001b[38;5;124m'\u001b[39m\u001b[38;5;124mstart_pin\u001b[39m\u001b[38;5;124m'\u001b[39m: {\u001b[38;5;124m'\u001b[39m\u001b[38;5;124mcomponent\u001b[39m\u001b[38;5;124m'\u001b[39m: \u001b[38;5;124m'\u001b[39m\u001b[38;5;124mQ3\u001b[39m\u001b[38;5;124m'\u001b[39m, \u001b[38;5;124m'\u001b[39m\u001b[38;5;124mpin\u001b[39m\u001b[38;5;124m'\u001b[39m: \u001b[38;5;124m'\u001b[39m\u001b[38;5;124mCharge_Line\u001b[39m\u001b[38;5;124m'\u001b[39m},\n\u001b[0;32m     15\u001b[0m              \u001b[38;5;124m'\u001b[39m\u001b[38;5;124mend_pin\u001b[39m\u001b[38;5;124m'\u001b[39m: {\u001b[38;5;124m'\u001b[39m\u001b[38;5;124mcomponent\u001b[39m\u001b[38;5;124m'\u001b[39m: \u001b[38;5;124m'\u001b[39m\u001b[38;5;124mP3_C\u001b[39m\u001b[38;5;124m'\u001b[39m, \u001b[38;5;124m'\u001b[39m\u001b[38;5;124mpin\u001b[39m\u001b[38;5;124m'\u001b[39m: \u001b[38;5;124m'\u001b[39m\u001b[38;5;124mtie\u001b[39m\u001b[38;5;124m'\u001b[39m}},\n\u001b[0;32m     16\u001b[0m             \u001b[38;5;124m'\u001b[39m\u001b[38;5;124mlead\u001b[39m\u001b[38;5;124m'\u001b[39m: {\u001b[38;5;124m'\u001b[39m\u001b[38;5;124mstart_straight\u001b[39m\u001b[38;5;124m'\u001b[39m: \u001b[38;5;124m'\u001b[39m\u001b[38;5;124m120um\u001b[39m\u001b[38;5;124m'\u001b[39m, \u001b[38;5;124m'\u001b[39m\u001b[38;5;124mend_straight\u001b[39m\u001b[38;5;124m'\u001b[39m: \u001b[38;5;124m'\u001b[39m\u001b[38;5;124m225um\u001b[39m\u001b[38;5;124m'\u001b[39m, \u001b[38;5;124m'\u001b[39m\u001b[38;5;124mstart_jogged_extension\u001b[39m\u001b[38;5;124m'\u001b[39m: jogsA_in},\n\u001b[0;32m     17\u001b[0m             \u001b[38;5;124m'\u001b[39m\u001b[38;5;124mfillet\u001b[39m\u001b[38;5;124m'\u001b[39m: fillet\n\u001b[0;32m     18\u001b[0m             }\n",
            "\u001b[1;31mNameError\u001b[0m: name 'fillet' is not defined"
          ]
        }
      ],
      "source": [
        "from collections import OrderedDict\n",
        "jogsA_in = OrderedDict()\n",
        "jogsA_in[0] = [\"L\", '200um']\n",
        "\n",
        "options_line_cl1 = {'pin_inputs':\n",
        "            {'start_pin': {'component': 'Q1', 'pin': 'Charge_Line'},\n",
        "             'end_pin': {'component': 'P1_C', 'pin': 'tie'}},\n",
        "            'lead': {'start_straight': '120um', 'end_straight': '225um','start_jogged_extension': jogsA_in},\n",
        "            'fillet': fillet\n",
        "            }\n",
        "cl1 = RouteAnchors(design, 'line_cl1', options_line_cl1)\n",
        "\n",
        "options_line_cl3 = {'pin_inputs':\n",
        "            {'start_pin': {'component': 'Q3', 'pin': 'Charge_Line'},\n",
        "             'end_pin': {'component': 'P3_C', 'pin': 'tie'}},\n",
        "            'lead': {'start_straight': '120um', 'end_straight': '225um', 'start_jogged_extension': jogsA_in},\n",
        "            'fillet': fillet\n",
        "            }\n",
        "cl3 = RouteAnchors(design, 'line_cl3', options_line_cl3)\n",
        "\n",
        "gui.rebuild()\n",
        "gui.autoscale()"
      ]
    },
    {
      "cell_type": "code",
      "execution_count": null,
      "id": "19228952-d9cc-4e38-8e87-3d1fd9b35633",
      "metadata": {
        "id": "19228952-d9cc-4e38-8e87-3d1fd9b35633",
        "outputId": "2ccd2fb8-7fe0-4d5a-b3e8-9506ba474695"
      },
      "outputs": [
        {
          "ename": "NameError",
          "evalue": "name 'fillet' is not defined",
          "output_type": "error",
          "traceback": [
            "\u001b[1;31m---------------------------------------------------------------------------\u001b[0m",
            "\u001b[1;31mNameError\u001b[0m                                 Traceback (most recent call last)",
            "Cell \u001b[1;32mIn[95], line 13\u001b[0m\n\u001b[0;32m      4\u001b[0m anchors2c \u001b[38;5;241m=\u001b[39m OrderedDict()\n\u001b[0;32m      5\u001b[0m anchors2c[\u001b[38;5;241m0\u001b[39m] \u001b[38;5;241m=\u001b[39m np\u001b[38;5;241m.\u001b[39marray([\u001b[38;5;241m2\u001b[39m, \u001b[38;5;241m-\u001b[39m\u001b[38;5;241m2.5\u001b[39m])\n\u001b[0;32m      7\u001b[0m options_line_cl2 \u001b[38;5;241m=\u001b[39m {\u001b[38;5;124m'\u001b[39m\u001b[38;5;124mpin_inputs\u001b[39m\u001b[38;5;124m'\u001b[39m:\n\u001b[0;32m      8\u001b[0m             {\u001b[38;5;124m'\u001b[39m\u001b[38;5;124mstart_pin\u001b[39m\u001b[38;5;124m'\u001b[39m: {\u001b[38;5;124m'\u001b[39m\u001b[38;5;124mcomponent\u001b[39m\u001b[38;5;124m'\u001b[39m: \u001b[38;5;124m'\u001b[39m\u001b[38;5;124mQ2\u001b[39m\u001b[38;5;124m'\u001b[39m, \u001b[38;5;124m'\u001b[39m\u001b[38;5;124mpin\u001b[39m\u001b[38;5;124m'\u001b[39m: \u001b[38;5;124m'\u001b[39m\u001b[38;5;124mCharge_Line\u001b[39m\u001b[38;5;124m'\u001b[39m},\n\u001b[0;32m      9\u001b[0m              \u001b[38;5;124m'\u001b[39m\u001b[38;5;124mend_pin\u001b[39m\u001b[38;5;124m'\u001b[39m: {\u001b[38;5;124m'\u001b[39m\u001b[38;5;124mcomponent\u001b[39m\u001b[38;5;124m'\u001b[39m: \u001b[38;5;124m'\u001b[39m\u001b[38;5;124mP2_C\u001b[39m\u001b[38;5;124m'\u001b[39m, \u001b[38;5;124m'\u001b[39m\u001b[38;5;124mpin\u001b[39m\u001b[38;5;124m'\u001b[39m: \u001b[38;5;124m'\u001b[39m\u001b[38;5;124mtie\u001b[39m\u001b[38;5;124m'\u001b[39m}},\n\u001b[0;32m     10\u001b[0m             \u001b[38;5;124m'\u001b[39m\u001b[38;5;124mlead\u001b[39m\u001b[38;5;124m'\u001b[39m: {\u001b[38;5;124m'\u001b[39m\u001b[38;5;124mstart_straight\u001b[39m\u001b[38;5;124m'\u001b[39m: \u001b[38;5;124m'\u001b[39m\u001b[38;5;124m200um\u001b[39m\u001b[38;5;124m'\u001b[39m, \u001b[38;5;124m'\u001b[39m\u001b[38;5;124mend_straight\u001b[39m\u001b[38;5;124m'\u001b[39m: \u001b[38;5;124m'\u001b[39m\u001b[38;5;124m225um\u001b[39m\u001b[38;5;124m'\u001b[39m,\n\u001b[0;32m     11\u001b[0m                      \u001b[38;5;124m'\u001b[39m\u001b[38;5;124mstart_jogged_extension\u001b[39m\u001b[38;5;124m'\u001b[39m: jogsB_in},\n\u001b[0;32m     12\u001b[0m             \u001b[38;5;124m'\u001b[39m\u001b[38;5;124manchors\u001b[39m\u001b[38;5;124m'\u001b[39m: anchors2c,\n\u001b[1;32m---> 13\u001b[0m             \u001b[38;5;124m'\u001b[39m\u001b[38;5;124mfillet\u001b[39m\u001b[38;5;124m'\u001b[39m: \u001b[43mfillet\u001b[49m\n\u001b[0;32m     14\u001b[0m             }\n\u001b[0;32m     16\u001b[0m cl2 \u001b[38;5;241m=\u001b[39m RouteAnchors(design, \u001b[38;5;124m'\u001b[39m\u001b[38;5;124mline_cl2\u001b[39m\u001b[38;5;124m'\u001b[39m, options_line_cl2)\n\u001b[0;32m     18\u001b[0m anchors4c \u001b[38;5;241m=\u001b[39m OrderedDict()\n",
            "\u001b[1;31mNameError\u001b[0m: name 'fillet' is not defined"
          ]
        }
      ],
      "source": [
        "jogsB_in = OrderedDict()\n",
        "jogsB_in[0] = [\"L\", '300um']\n",
        "\n",
        "anchors2c = OrderedDict()\n",
        "anchors2c[0] = np.array([2, -2.5])\n",
        "\n",
        "options_line_cl2 = {'pin_inputs':\n",
        "            {'start_pin': {'component': 'Q2', 'pin': 'Charge_Line'},\n",
        "             'end_pin': {'component': 'P2_C', 'pin': 'tie'}},\n",
        "            'lead': {'start_straight': '200um', 'end_straight': '225um',\n",
        "                     'start_jogged_extension': jogsB_in},\n",
        "            'anchors': anchors2c,\n",
        "            'fillet': fillet\n",
        "            }\n",
        "\n",
        "cl2 = RouteAnchors(design, 'line_cl2', options_line_cl2)\n",
        "\n",
        "anchors4c = OrderedDict()\n",
        "anchors4c[0] = np.array([-2, 2.5])\n",
        "\n",
        "options_line_cl4 = {'pin_inputs':\n",
        "            {'start_pin': {'component': 'Q4', 'pin': 'Charge_Line'},\n",
        "             'end_pin': {'component': 'P4_C', 'pin': 'tie'}},\n",
        "            'lead': {'start_straight': '200um', 'end_straight': '225um',\n",
        "                     'start_jogged_extension': jogsB_in},\n",
        "            'anchors': anchors4c,\n",
        "            'fillet': fillet\n",
        "            }\n",
        "\n",
        "cl4 = RouteAnchors(design, 'line_cl4', options_line_cl4)\n",
        "\n",
        "gui.rebuild()\n",
        "gui.autoscale()"
      ]
    },
    {
      "cell_type": "code",
      "execution_count": null,
      "id": "32ecafd2-9bb5-4522-a8e0-5707d7f9a7ab",
      "metadata": {
        "id": "32ecafd2-9bb5-4522-a8e0-5707d7f9a7ab",
        "outputId": "08c96ad5-7f63-4d45-906d-e0ca0323e4ce"
      },
      "outputs": [
        {
          "data": {
            "text/plain": [
              "{'short_segments_to_not_fillet': 'True',\n",
              " 'check_short_segments_by_scaling_fillet': '2.0',\n",
              " 'gds_unit': 0.001,\n",
              " 'ground_plane': 'True',\n",
              " 'negative_mask': {'main': []},\n",
              " 'fabricate': 'False',\n",
              " 'corners': 'circular bend',\n",
              " 'tolerance': '0.00001',\n",
              " 'precision': '0.000000001',\n",
              " 'width_LineString': '10um',\n",
              " 'path_filename': '../resources/Fake_Junctions.GDS',\n",
              " 'junction_pad_overlap': '5um',\n",
              " 'max_points': '199',\n",
              " 'cheese': {'datatype': '100',\n",
              "  'shape': '0',\n",
              "  'cheese_0_x': '25um',\n",
              "  'cheese_0_y': '25um',\n",
              "  'cheese_1_radius': '100um',\n",
              "  'view_in_file': {'main': {1: True}},\n",
              "  'delta_x': '100um',\n",
              "  'delta_y': '100um',\n",
              "  'edge_nocheese': '200um'},\n",
              " 'no_cheese': {'datatype': '99',\n",
              "  'buffer': '25um',\n",
              "  'cap_style': '2',\n",
              "  'join_style': '2',\n",
              "  'view_in_file': {'main': {1: True}}},\n",
              " 'bounding_box_scale_x': '1.2',\n",
              " 'bounding_box_scale_y': '1.2'}"
            ]
          },
          "execution_count": 45,
          "metadata": {},
          "output_type": "execute_result"
        }
      ],
      "source": [
        "a_gds = design.renderers.gds\n",
        "\n",
        "a_gds.options"
      ]
    },
    {
      "cell_type": "code",
      "execution_count": null,
      "id": "7951af9e-658b-4e6a-847a-9779c6014b55",
      "metadata": {
        "id": "7951af9e-658b-4e6a-847a-9779c6014b55"
      },
      "outputs": [],
      "source": [
        "a_gds.options['no_cheese']['buffer'] = '50um'"
      ]
    },
    {
      "cell_type": "code",
      "execution_count": null,
      "id": "ab65c766-cb0a-4ba4-b394-c76275826fd0",
      "metadata": {
        "id": "ab65c766-cb0a-4ba4-b394-c76275826fd0",
        "outputId": "fc858588-7d48-439f-8391-e695cdab97ee"
      },
      "outputs": [
        {
          "ename": "SyntaxError",
          "evalue": "(unicode error) 'unicodeescape' codec can't decode bytes in position 2-3: truncated \\UXXXXXXXX escape (1092997914.py, line 1)",
          "output_type": "error",
          "traceback": [
            "\u001b[1;36m  Cell \u001b[1;32mIn[53], line 1\u001b[1;36m\u001b[0m\n\u001b[1;33m    a_gds.options['path_filename'] = 'C:\\Users\\Owner\\Fake_Junctions.GDS'\u001b[0m\n\u001b[1;37m                                                                        ^\u001b[0m\n\u001b[1;31mSyntaxError\u001b[0m\u001b[1;31m:\u001b[0m (unicode error) 'unicodeescape' codec can't decode bytes in position 2-3: truncated \\UXXXXXXXX escape\n"
          ]
        }
      ],
      "source": [
        "a_gds.options['path_filename'] = 'C:\\Users\\Owner\\Fake_Junctions.GDS'\n",
        "a_gds.export_to_gds(\"Full_chip_design.gds\")"
      ]
    },
    {
      "cell_type": "code",
      "execution_count": null,
      "id": "fa830c39-26d2-446d-8f0b-d5959959827b",
      "metadata": {
        "id": "fa830c39-26d2-446d-8f0b-d5959959827b"
      },
      "outputs": [],
      "source": []
    }
  ],
  "metadata": {
    "kernelspec": {
      "display_name": "qismetkernel",
      "language": "python",
      "name": "qismetkernel"
    },
    "language_info": {
      "codemirror_mode": {
        "name": "ipython",
        "version": 3
      },
      "file_extension": ".py",
      "mimetype": "text/x-python",
      "name": "python",
      "nbconvert_exporter": "python",
      "pygments_lexer": "ipython3",
      "version": "3.11.11"
    },
    "colab": {
      "provenance": [],
      "include_colab_link": true
    }
  },
  "nbformat": 4,
  "nbformat_minor": 5
}